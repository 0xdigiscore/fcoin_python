{
 "cells": [
  {
   "cell_type": "code",
   "execution_count": 32,
   "metadata": {
    "ExecuteTime": {
     "end_time": "2018-06-09T11:33:47.467863Z",
     "start_time": "2018-06-09T11:33:46.914849Z"
    }
   },
   "outputs": [],
   "source": [
    "import hmac\n",
    "import hashlib\n",
    "import requests\n",
    "import sys\n",
    "import time\n",
    "import base64\n",
    "import json\n",
    "from collections import OrderedDict\n",
    "\n",
    "class Fcoin():\n",
    "    def __init__(self,base_url = 'https://api.fcoin.com/v2/'):\n",
    "        self.base_url = base_url\n",
    "\n",
    "    def auth(self, key, secret):\n",
    "        self.key = bytes(key,'utf-8')\n",
    "        self.secret = bytes(secret, 'utf-8')\n",
    "\n",
    "\n",
    "    def public_request(self, method, api_url, **payload):\n",
    "        \"\"\"request public url\"\"\"\n",
    "        r_url = self.base_url + api_url\n",
    "        try:\n",
    "            r = requests.request(method, r_url, params=payload)\n",
    "            r.raise_for_status()\n",
    "        except requests.exceptions.HTTPError as err:\n",
    "            print(err)\n",
    "        if r.status_code == 200:\n",
    "            return r.json()\n",
    "\n",
    "    def get_signed(self, sig_str):\n",
    "        \"\"\"signed params use sha512\"\"\"\n",
    "        sig_str = base64.b64encode(sig_str)\n",
    "        signature = base64.b64encode(hmac.new(self.secret, sig_str, digestmod=hashlib.sha1).digest())\n",
    "        return signature\n",
    "\n",
    "\n",
    "    def signed_request(self, method, api_url, **payload):\n",
    "        \"\"\"request a signed url\"\"\"\n",
    "\n",
    "        param=''\n",
    "        if payload:\n",
    "            sort_pay = sorted(payload.items())\n",
    "            #sort_pay.sort()\n",
    "            for k in sort_pay:\n",
    "                param += '&' + str(k[0]) + '=' + str(k[1])\n",
    "            param = param.lstrip('&')\n",
    "        timestamp = str(int(time.time() * 1000))\n",
    "        full_url = self.base_url + api_url\n",
    "\n",
    "        if method == 'GET':\n",
    "            if param:\n",
    "                full_url = full_url + '?' +param\n",
    "            sig_str = method + full_url + timestamp\n",
    "        elif method == 'POST':\n",
    "            sig_str = method + full_url + timestamp + param\n",
    "\n",
    "        signature = self.get_signed(bytes(sig_str, 'utf-8'))\n",
    "\n",
    "        headers = {\n",
    "            'FC-ACCESS-KEY': self.key,\n",
    "            'FC-ACCESS-SIGNATURE': signature,\n",
    "            'FC-ACCESS-TIMESTAMP': timestamp\n",
    "\n",
    "        }\n",
    "\n",
    "        try:\n",
    "            r = requests.request(method, full_url, headers = headers, json=payload)\n",
    "\n",
    "            r.raise_for_status()\n",
    "        except requests.exceptions.HTTPError as err:\n",
    "            print(err)\n",
    "            print(r.text)\n",
    "        if r.status_code == 200:\n",
    "            return r.json()\n",
    "\n",
    "\n",
    "    def get_server_time(self):\n",
    "        \"\"\"Get server time\"\"\"\n",
    "        return self.public_request('GET','/public/server-time')['data']\n",
    "\n",
    "\n",
    "    def get_currencies(self):\n",
    "        \"\"\"get all currencies\"\"\"\n",
    "        return self.public_request('GET', '/public/currencies')['data']\n",
    "\n",
    "    def get_symbols(self):\n",
    "        \"\"\"get all symbols\"\"\"\n",
    "        return self.public_request('GET', '/public/symbols')['data']\n",
    "\n",
    "    def get_market_ticker(self, symbol):\n",
    "        \"\"\"get market ticker\"\"\"\n",
    "        return self.public_request('GET', 'market/ticker/{symbol}'.format(symbol=symbol))\n",
    "\n",
    "    def get_market_depth(self, level, symbol):\n",
    "        \"\"\"get market depth\"\"\"\n",
    "        return self.public_request('GET', 'market/depth/{level}/{symbol}'.format(level=level, symbol=symbol))\n",
    "\n",
    "    def get_trades(self,symbol):\n",
    "        \"\"\"get detail trade\"\"\"\n",
    "        return self.public_request('GET', 'market/trades/{symbol}'.format(symbol=symbol))\n",
    "\n",
    "    # 查你账户里有多钱\n",
    "    def get_balance(self):\n",
    "        \"\"\"get user balance\"\"\"\n",
    "        return self.signed_request('GET', 'accounts/balance')\n",
    "    \n",
    "     # 查询某个币价格\n",
    "    def get_coin_price(self,symbol):\n",
    "        price = [coin['price'] for coin in self.get_trades(symbol)['data']]\n",
    "        '''\n",
    "        获取最低币价，接口目前只返回一个\n",
    "        '''   \n",
    "        return min(price)\n",
    "\n",
    "    def list_orders(self, **payload):\n",
    "        \"\"\"get orders\"\"\"\n",
    "        return self.signed_request('GET','orders', **payload)\n",
    "\n",
    "    def create_order(self, **payload):\n",
    "        \"\"\"create order\"\"\"\n",
    "        return self.signed_request('POST','orders', **payload)\n",
    "\n",
    "    def buy(self,symbol, price, amount):\n",
    "        \"\"\"buy someting\"\"\"\n",
    "        return self.create_order(symbol=symbol, side='buy', type='limit', price=str(price), amount=amount)\n",
    "\n",
    "    def sell(self, symbol, price, amount):\n",
    "        \"\"\"buy someting\"\"\"\n",
    "        return self.create_order(symbol=symbol, side='sell', type='limit', price=str(price), amount=amount)\n",
    "\n",
    "    def get_order(self,order_id):\n",
    "        \"\"\"get specfic order\"\"\"\n",
    "        return self.signed_request('GET', 'orders/{order_id}'.format(order_id=order_id))\n",
    "    \n",
    "          # 查某个币种的余额是否够\n",
    "    def get_coin_balance(self,symbol):\n",
    "        coin_map = zip([coin['currency'] for coin in self.get_balance()['data']],[coin['balance'] for coin in self.get_balance()['data']]) \n",
    "        return (dict(coin_map))[symbol]    \n",
    "\n",
    "    def cancel_order(self,order_id):\n",
    "        \"\"\"cancel specfic order\"\"\"\n",
    "        return self.signed_request('POST', 'orders/{order_id}/submit-cancel'.format(order_id=order_id))\n",
    "\n",
    "    def order_result(self, order_id):\n",
    "        \"\"\"check order result\"\"\"\n",
    "        return self.signed_request('GET', 'orders/{order_id}/match-results'.format(order_id=order_id))\n",
    "    def get_candle(self,resolution, symbol, **payload):\n",
    "        \"\"\"get candle data\"\"\"\n",
    "        return self.public_request('GET', 'market/candles/{resolution}/{symbol}'.format(resolution=resolution, symbol=symbol), **payload)\n"
   ]
  },
  {
   "cell_type": "code",
   "execution_count": null,
   "metadata": {},
   "outputs": [],
   "source": []
  },
  {
   "cell_type": "code",
   "execution_count": 33,
   "metadata": {
    "ExecuteTime": {
     "end_time": "2018-06-09T11:33:49.301434Z",
     "start_time": "2018-06-09T11:33:49.298766Z"
    }
   },
   "outputs": [],
   "source": [
    "fcoin = Fcoin()\n",
    "fcoin.auth('5418eaac7f384e8ebf76246860e629f7', '85f6d51358f5467faa1199e18810a8b9')"
   ]
  },
  {
   "cell_type": "code",
   "execution_count": null,
   "metadata": {},
   "outputs": [],
   "source": []
  },
  {
   "cell_type": "code",
   "execution_count": 9,
   "metadata": {
    "ExecuteTime": {
     "end_time": "2018-06-09T09:37:59.636084Z",
     "start_time": "2018-06-09T09:37:58.040798Z"
    }
   },
   "outputs": [
    {
     "name": "stdout",
     "output_type": "stream",
     "text": [
      "I'm working for sell\n",
      "job2: 2018-06-09 17:37:59.634066\n"
     ]
    }
   ],
   "source": [
    "# 多线程运行买和卖\n",
    "import datetime\n",
    "import schedule\n",
    "import threading\n",
    "import time\n",
    "\n",
    "def buy():\n",
    "    print(\"I'm working for buy\")\n",
    "    fcoin.buy('ethusdt',602.50,0.02);\n",
    "    time.sleep(1);\n",
    "    print(\"job1:\", datetime.datetime.now())\n",
    "     \n",
    "def sell():\n",
    "    print(\"I'm working for sell\")\n",
    "    fcoin.sell('ethusdt',602.76,0.001)\n",
    "    time.sleep(1)\n",
    "    print(\"job2:\", datetime.datetime.now())\n",
    "    \n",
    "def job1_task():\n",
    "    threading.Thread(target=job1).start()\n",
    "    \n",
    "def job2_task():\n",
    "    threading.Thread(target=job2).start()"
   ]
  },
  {
   "cell_type": "code",
   "execution_count": 36,
   "metadata": {
    "ExecuteTime": {
     "end_time": "2018-06-09T11:54:11.437560Z",
     "start_time": "2018-06-09T11:54:10.982262Z"
    }
   },
   "outputs": [
    {
     "data": {
      "text/plain": [
       "{'data': [{'amount': 173.0,\n",
       "   'id': 765756000,\n",
       "   'price': 0.00105151,\n",
       "   'side': 'sell',\n",
       "   'ts': 1528545250727}],\n",
       " 'status': 0}"
      ]
     },
     "execution_count": 36,
     "metadata": {},
     "output_type": "execute_result"
    }
   ],
   "source": [
    "fcoin.get_trades('fteth')\n"
   ]
  },
  {
   "cell_type": "code",
   "execution_count": 80,
   "metadata": {
    "ExecuteTime": {
     "end_time": "2018-06-09T15:08:16.021048Z",
     "start_time": "2018-06-09T15:08:15.295288Z"
    }
   },
   "outputs": [
    {
     "name": "stdout",
     "output_type": "stream",
     "text": [
      "0.00106\n"
     ]
    }
   ],
   "source": [
    "usdt_price = fcoin.get_coin_price('fteth')\n",
    "print(usdt_price)"
   ]
  },
  {
   "cell_type": "code",
   "execution_count": null,
   "metadata": {},
   "outputs": [],
   "source": []
  },
  {
   "cell_type": "code",
   "execution_count": null,
   "metadata": {},
   "outputs": [],
   "source": []
  },
  {
   "cell_type": "code",
   "execution_count": null,
   "metadata": {},
   "outputs": [],
   "source": [
    "from functools import reduce\n",
    "def str2float(strf):\n",
    "def char2num(s):\n",
    "return {'0': 0, '1': 1, '2': 2, '3': 3, '4': 4, '5': 5, '6': 6, '7': 7, '8': 8, '9': 9}[s]\n",
    "def char2int(x, y):\n",
    "return 10 * x + y\n",
    "tstr = strf.split('.')\n",
    "hightre = reduce(char2int, map(char2num, tstr[0]))\n",
    "if len(tstr)>1:\n",
    "lowre = reduce(char2int, map(char2num, tstr[1]))*(0.1**len(tstr[1]))\n",
    "else:\n",
    "lowre = 0\n",
    "return hightre + lowre"
   ]
  },
  {
   "cell_type": "code",
   "execution_count": null,
   "metadata": {},
   "outputs": [],
   "source": []
  },
  {
   "cell_type": "code",
   "execution_count": null,
   "metadata": {},
   "outputs": [],
   "source": []
  },
  {
   "cell_type": "code",
   "execution_count": null,
   "metadata": {},
   "outputs": [],
   "source": []
  },
  {
   "cell_type": "code",
   "execution_count": null,
   "metadata": {},
   "outputs": [],
   "source": []
  },
  {
   "cell_type": "code",
   "execution_count": null,
   "metadata": {},
   "outputs": [],
   "source": []
  },
  {
   "cell_type": "code",
   "execution_count": null,
   "metadata": {},
   "outputs": [],
   "source": []
  },
  {
   "cell_type": "code",
   "execution_count": null,
   "metadata": {},
   "outputs": [],
   "source": []
  },
  {
   "cell_type": "code",
   "execution_count": null,
   "metadata": {},
   "outputs": [],
   "source": []
  },
  {
   "cell_type": "code",
   "execution_count": 59,
   "metadata": {
    "ExecuteTime": {
     "end_time": "2018-06-09T12:19:31.935056Z",
     "start_time": "2018-06-09T12:19:30.047301Z"
    }
   },
   "outputs": [
    {
     "data": {
      "text/plain": [
       "{'data': [{'amount': 0.038,\n",
       "   'id': 37583668000,\n",
       "   'price': 601.79,\n",
       "   'side': 'buy',\n",
       "   'ts': 1528546771243}],\n",
       " 'status': 0}"
      ]
     },
     "execution_count": 59,
     "metadata": {},
     "output_type": "execute_result"
    }
   ],
   "source": [
    "fcoin.get_trades('ethusdt')"
   ]
  },
  {
   "cell_type": "code",
   "execution_count": null,
   "metadata": {},
   "outputs": [],
   "source": []
  },
  {
   "cell_type": "code",
   "execution_count": null,
   "metadata": {},
   "outputs": [],
   "source": []
  },
  {
   "cell_type": "code",
   "execution_count": null,
   "metadata": {},
   "outputs": [],
   "source": []
  },
  {
   "cell_type": "code",
   "execution_count": null,
   "metadata": {},
   "outputs": [],
   "source": []
  },
  {
   "cell_type": "code",
   "execution_count": null,
   "metadata": {},
   "outputs": [],
   "source": []
  },
  {
   "cell_type": "code",
   "execution_count": null,
   "metadata": {},
   "outputs": [],
   "source": []
  },
  {
   "cell_type": "code",
   "execution_count": null,
   "metadata": {},
   "outputs": [],
   "source": []
  },
  {
   "cell_type": "code",
   "execution_count": null,
   "metadata": {},
   "outputs": [],
   "source": []
  },
  {
   "cell_type": "code",
   "execution_count": null,
   "metadata": {},
   "outputs": [],
   "source": []
  },
  {
   "cell_type": "code",
   "execution_count": null,
   "metadata": {},
   "outputs": [],
   "source": []
  },
  {
   "cell_type": "code",
   "execution_count": null,
   "metadata": {},
   "outputs": [],
   "source": []
  },
  {
   "cell_type": "code",
   "execution_count": null,
   "metadata": {},
   "outputs": [],
   "source": []
  },
  {
   "cell_type": "code",
   "execution_count": null,
   "metadata": {},
   "outputs": [],
   "source": []
  },
  {
   "cell_type": "code",
   "execution_count": null,
   "metadata": {},
   "outputs": [],
   "source": []
  },
  {
   "cell_type": "code",
   "execution_count": null,
   "metadata": {},
   "outputs": [],
   "source": []
  },
  {
   "cell_type": "code",
   "execution_count": null,
   "metadata": {},
   "outputs": [],
   "source": []
  },
  {
   "cell_type": "code",
   "execution_count": null,
   "metadata": {},
   "outputs": [],
   "source": []
  },
  {
   "cell_type": "code",
   "execution_count": null,
   "metadata": {},
   "outputs": [],
   "source": []
  },
  {
   "cell_type": "code",
   "execution_count": null,
   "metadata": {},
   "outputs": [],
   "source": []
  },
  {
   "cell_type": "code",
   "execution_count": null,
   "metadata": {},
   "outputs": [],
   "source": []
  },
  {
   "cell_type": "code",
   "execution_count": null,
   "metadata": {},
   "outputs": [],
   "source": []
  },
  {
   "cell_type": "code",
   "execution_count": null,
   "metadata": {},
   "outputs": [],
   "source": []
  },
  {
   "cell_type": "code",
   "execution_count": null,
   "metadata": {},
   "outputs": [],
   "source": []
  },
  {
   "cell_type": "code",
   "execution_count": null,
   "metadata": {},
   "outputs": [],
   "source": []
  },
  {
   "cell_type": "code",
   "execution_count": null,
   "metadata": {},
   "outputs": [],
   "source": []
  },
  {
   "cell_type": "code",
   "execution_count": null,
   "metadata": {},
   "outputs": [],
   "source": []
  },
  {
   "cell_type": "code",
   "execution_count": null,
   "metadata": {},
   "outputs": [],
   "source": []
  },
  {
   "cell_type": "code",
   "execution_count": null,
   "metadata": {},
   "outputs": [],
   "source": []
  },
  {
   "cell_type": "code",
   "execution_count": null,
   "metadata": {},
   "outputs": [],
   "source": []
  },
  {
   "cell_type": "code",
   "execution_count": null,
   "metadata": {},
   "outputs": [],
   "source": []
  },
  {
   "cell_type": "code",
   "execution_count": null,
   "metadata": {},
   "outputs": [],
   "source": []
  },
  {
   "cell_type": "code",
   "execution_count": null,
   "metadata": {},
   "outputs": [],
   "source": []
  },
  {
   "cell_type": "code",
   "execution_count": null,
   "metadata": {},
   "outputs": [],
   "source": []
  }
 ],
 "metadata": {
  "kernelspec": {
   "display_name": "Python 3",
   "language": "python",
   "name": "python3"
  },
  "language_info": {
   "codemirror_mode": {
    "name": "ipython",
    "version": 3
   },
   "file_extension": ".py",
   "mimetype": "text/x-python",
   "name": "python",
   "nbconvert_exporter": "python",
   "pygments_lexer": "ipython3",
   "version": "3.6.4"
  },
  "toc": {
   "base_numbering": 1,
   "nav_menu": {},
   "number_sections": true,
   "sideBar": true,
   "skip_h1_title": false,
   "title_cell": "Table of Contents",
   "title_sidebar": "Contents",
   "toc_cell": false,
   "toc_position": {},
   "toc_section_display": true,
   "toc_window_display": false
  }
 },
 "nbformat": 4,
 "nbformat_minor": 2
}
